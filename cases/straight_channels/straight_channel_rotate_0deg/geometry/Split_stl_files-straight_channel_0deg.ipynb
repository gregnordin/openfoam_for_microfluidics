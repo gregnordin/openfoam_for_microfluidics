{
 "cells": [
  {
   "cell_type": "markdown",
   "id": "8702e69a-d120-4d90-a1ff-47cf881c71eb",
   "metadata": {},
   "source": [
    "# Purpose\n",
    "\n",
    "Take an input STL file and sort its faces based on [TriMesh](https://github.com/mikedh/trimesh) facets into inlet, outlet, wall, and top and bottom faces. Write each type of sorted faces to individual STL files. Also collect the faces orthogonal to the x-y plane and write to a combined STL file used by `cfmesh` to create a 1-cell thick mesh suitable for 2D OpenFoam simulations."
   ]
  },
  {
   "cell_type": "markdown",
   "id": "5e0a979b-2795-4f1c-860b-24b437bed832",
   "metadata": {},
   "source": [
    "# Imports"
   ]
  },
  {
   "cell_type": "code",
   "execution_count": 1,
   "id": "f024e474-f326-4e3c-9a29-8e18e57e65ae",
   "metadata": {},
   "outputs": [],
   "source": [
    "from pathlib import Path\n",
    "\n",
    "import numpy as np\n",
    "import matplotlib.pyplot as plt\n",
    "import matplotlib as mpl\n",
    "%matplotlib inline\n",
    "\n",
    "import trimesh"
   ]
  },
  {
   "cell_type": "markdown",
   "id": "799010cf-170a-46bf-97c0-53b55d989fb5",
   "metadata": {},
   "source": [
    "# Code"
   ]
  },
  {
   "cell_type": "code",
   "execution_count": 2,
   "id": "2d688c9d-3eb6-4d24-afdb-40fb786cc7d4",
   "metadata": {},
   "outputs": [],
   "source": [
    "def correct_stl_string(original_str, name):\n",
    "    \"\"\"Make corrections to STL string returned by \n",
    "    'trimesh.exchange.stl.export_stl_ascii()' so that there\n",
    "    is a defined name and a final blank line. These are needed to\n",
    "    create a valid STL file for use in OpenFoam.\n",
    "    \"\"\"\n",
    "    temp = original_str.split(\"\\n\")\n",
    "    temp[0] += f\"{name}\"\n",
    "    temp[-1] += f\" {name}\\n\"\n",
    "    return \"\\n\".join(temp)\n",
    "\n",
    "    \n",
    "def write_stl_string_to_ascii_stl_file(stl_string, filename, write_directory=None):\n",
    "    if write_directory is None:\n",
    "        output_file = Path(filename)\n",
    "    else:\n",
    "        assert isinstance(write_directory, Path)\n",
    "        output_file = write_directory / filename\n",
    "    with open(output_file, \"w\") as f:\n",
    "        f.write(stl_string)\n",
    "\n",
    "def write_to_ascii_stl_file(mesh, write_directory=None):\n",
    "    \"\"\"Write 'trimesh.Trimesh' object to ascii STL file.\n",
    "    \"\"\"\n",
    "    assert hasattr(mesh, \"name\")\n",
    "    stl_string = correct_stl_string(\n",
    "        trimesh.exchange.stl.export_stl_ascii(mesh), \n",
    "        mesh.name\n",
    "    )\n",
    "    write_stl_string_to_ascii_stl_file(stl_string, mesh.name + \".stl\", write_directory)\n",
    "\n",
    "def write_ascii_stl_file_for_side_faces(\n",
    "    mesh, \n",
    "    sorted_facets, \n",
    "    included_submeshes = [\"inlet\", \"outlet\", \"walls\"], \n",
    "    write_directory=None\n",
    "):\n",
    "    \"\"\"Write specified faces to ascii STL file.\n",
    "    \"\"\"\n",
    "    submeshes = create_submeshes(mesh, sorted_facets)\n",
    "    \n",
    "    stl_strings = []\n",
    "    for name, submesh in submeshes.items():\n",
    "        if name not in included_submeshes:\n",
    "            continue\n",
    "        stl_strings.append(\n",
    "            correct_stl_string(\n",
    "                trimesh.exchange.stl.export_stl_ascii(submesh), \n",
    "                submesh.name\n",
    "            )\n",
    "        )\n",
    "        \n",
    "    stl_string = \"\".join(stl_strings)\n",
    "    \n",
    "    write_stl_string_to_ascii_stl_file(stl_string, \"combined.stl\", write_directory)"
   ]
  },
  {
   "cell_type": "code",
   "execution_count": 3,
   "id": "824bdea3-e264-44c2-a520-4fb63f580002",
   "metadata": {},
   "outputs": [],
   "source": [
    "def calculate_facets_reverse_index(mesh):\n",
    "    \"\"\"Add new attribute to trimesh mesh,\n",
    "    'facets_reverse_index_from_face_id', which is a\n",
    "    reverse index dict such that given the id of a face,\n",
    "    the corresponding facet to which that face belongs\n",
    "    is returned. The facet is comprised of a numpy \n",
    "    array of face id's.\n",
    "    \"\"\"\n",
    "    mesh.facets_reverse_index_from_face_id = {}\n",
    "\n",
    "    for facet_id, facet in enumerate(mesh.facets):\n",
    "        for face_id in facet:\n",
    "            mesh.facets_reverse_index_from_face_id[face_id] = facet_id\n"
   ]
  },
  {
   "cell_type": "code",
   "execution_count": 4,
   "id": "d0aa732d-b816-4e9f-8b9b-be5c97007dac",
   "metadata": {},
   "outputs": [],
   "source": [
    "def facet_vertices(mesh, facet_id):\n",
    "    \"\"\"Return a list of all vertices in a facet.\n",
    "    Since a facet is comprised of faces which in turn\n",
    "    are each triangles, the number of vertices is 3 * \n",
    "    (number of faces in facet).\n",
    "    \"\"\"\n",
    "    vertices = []\n",
    "    for face_id in mesh.facets[facet_id]:\n",
    "        for vertex in mesh.vertices[mesh.faces[face_id]]:\n",
    "            vertices.append([vertex[0], vertex[1], vertex[2]])    \n",
    "    return vertices"
   ]
  },
  {
   "cell_type": "code",
   "execution_count": 5,
   "id": "f47abdda-1201-4d68-8fed-4d4232107c85",
   "metadata": {},
   "outputs": [],
   "source": [
    "def face_vertices(mesh, face_id):\n",
    "    \"\"\"Return a list of all vertices in a face.\n",
    "    Since a face is a triangle, the list always contains\n",
    "    3 vertices.\n",
    "    \"\"\"\n",
    "    vertices = []\n",
    "    for vertex in mesh.vertices[mesh.faces[face_id]]:\n",
    "        vertices.append([vertex[0], vertex[1], vertex[2]])    \n",
    "    return vertices\n",
    "\n",
    "\n",
    "def create_submeshes(mesh, sorted_facets):\n",
    "    \"\"\"Create a 'trimesh.Trimesh' for each sorted facet in 'sorted_facets'.\n",
    "    \"\"\"\n",
    "    submeshes = dict()\n",
    "    for name, included_facets in sorted_facets.items():\n",
    "    \n",
    "        new_vertices = []\n",
    "        new_faces = []\n",
    "\n",
    "        vertex_index = 0\n",
    "        for j, facet_id in enumerate(included_facets):\n",
    "            \n",
    "            for i, face_id in enumerate(mesh.facets[facet_id]):\n",
    "                temp_vertices = face_vertices(mesh, face_id)\n",
    "                for vertex in temp_vertices:\n",
    "                    new_vertices.append(vertex)\n",
    "                new_faces.append([temp for temp in range(vertex_index, vertex_index + 3)])\n",
    "                vertex_index += 3\n",
    "\n",
    "        submeshes[name] = trimesh.Trimesh(vertices=new_vertices, faces=new_faces)\n",
    "        submeshes[name].name = name\n",
    "        \n",
    "    return submeshes\n",
    "\n",
    "def create_and_write_STL_boundary_files(mesh, sorted_facets):\n",
    "    \"\"\"Given a 'trimesh.Trimesh' and a dict of its sorted facets,\n",
    "    create a new `trimesh.Trimesh` for each type of sorted facet\n",
    "    and write to its own ascii STL file. The new meshes and files\n",
    "    are named according to the keys in 'sorted_facets'.\n",
    "    \"\"\"\n",
    "    submeshes = create_submeshes(mesh, sorted_facets)\n",
    "    for _, submesh in submeshes.items():\n",
    "        write_to_ascii_stl_file(submesh, write_directory=None)\n",
    "    "
   ]
  },
  {
   "cell_type": "markdown",
   "id": "8541b660-a08a-4860-92ff-b83eb9b07d82",
   "metadata": {},
   "source": [
    "# Unit vector definitions"
   ]
  },
  {
   "cell_type": "code",
   "execution_count": 6,
   "id": "26925acb-6e8e-434d-ab73-1a8dfc088da2",
   "metadata": {},
   "outputs": [],
   "source": [
    "norm_minus_x = np.array([-1, 0, 0], dtype=np.float32)\n",
    "norm_plus_x = np.array([1, 0, 0], dtype=np.float32)\n",
    "norm_minus_y = np.array([0, -1, 0], dtype=np.float32)\n",
    "norm_plus_y = np.array([0, 1, 0], dtype=np.float32)\n",
    "norm_minus_z = np.array([0, 0, -1], dtype=np.float32)\n",
    "norm_plus_z = np.array([0, 0, 1], dtype=np.float32)"
   ]
  },
  {
   "cell_type": "markdown",
   "id": "a2754d99-0893-43df-89be-8438fcc14947",
   "metadata": {},
   "source": [
    "# Load STL"
   ]
  },
  {
   "cell_type": "code",
   "execution_count": 7,
   "id": "a0a1d16c-6be8-4203-b67b-609a526eb064",
   "metadata": {},
   "outputs": [],
   "source": [
    "mesh = trimesh.load_mesh(\"straight_channel_0deg.stl\")"
   ]
  },
  {
   "cell_type": "code",
   "execution_count": 8,
   "id": "6f9d456b-1b82-451d-9def-c40d6e7bbbfe",
   "metadata": {},
   "outputs": [
    {
     "name": "stdout",
     "output_type": "stream",
     "text": [
      "mesh.vertices.shape=(8, 3)\n",
      "mesh.faces.shape=(12, 3)\n",
      "\n",
      "len(mesh.facets)=6\n",
      "len(mesh.facets_normal)=6\n",
      "len(mesh.facets_reverse_index_from_face_id)=12\n"
     ]
    }
   ],
   "source": [
    "print(f\"{mesh.vertices.shape=}\")\n",
    "print(f\"{mesh.faces.shape=}\")\n",
    "print()\n",
    "print(f\"{len(mesh.facets)=}\")\n",
    "print(f\"{len(mesh.facets_normal)=}\")\n",
    "\n",
    "calculate_facets_reverse_index(mesh)\n",
    "print(f\"{len(mesh.facets_reverse_index_from_face_id)=}\")\n"
   ]
  },
  {
   "cell_type": "markdown",
   "id": "c3791215-4eba-4756-aa6c-ed010c2e30ab",
   "metadata": {},
   "source": [
    "# Scale from mm to m"
   ]
  },
  {
   "cell_type": "code",
   "execution_count": 9,
   "id": "11f5fdbb-c50d-445c-b611-bb72e55e8cc8",
   "metadata": {},
   "outputs": [
    {
     "data": {
      "text/plain": [
       "<trimesh.Trimesh(vertices.shape=(8, 3), faces.shape=(12, 3))>"
      ]
     },
     "execution_count": 9,
     "metadata": {},
     "output_type": "execute_result"
    }
   ],
   "source": [
    "mesh.apply_scale(1e-3)"
   ]
  },
  {
   "cell_type": "markdown",
   "id": "b04ccef6-3430-4c59-a30e-1c4c660ad381",
   "metadata": {},
   "source": [
    "## Save scaled original stl file"
   ]
  },
  {
   "cell_type": "code",
   "execution_count": 10,
   "id": "d51bd344-148c-4680-903f-bf9ff54475e1",
   "metadata": {},
   "outputs": [],
   "source": [
    "# Write scaled mesh to STL file\n",
    "mesh.name = \"original_scaled\"\n",
    "write_to_ascii_stl_file(mesh)"
   ]
  },
  {
   "cell_type": "markdown",
   "id": "1b252566-705f-4a33-8106-c6aa5c935e29",
   "metadata": {},
   "source": [
    "# Plan - sort faces\n",
    "\n",
    "Loop over facets and collect facet id's.\n",
    "\n",
    "- Normal = +z &rarr; top\n",
    "- Normal = -z &rarr; bottom\n",
    "- Normal = -x  &rarr; inlet\n",
    "- Normal = +x  &rarr; outlet\n",
    "- Otherwise &rarr; wall"
   ]
  },
  {
   "cell_type": "markdown",
   "id": "d732ad4f-3e6c-4910-b988-c1dfa01f65b8",
   "metadata": {
    "tags": []
   },
   "source": [
    "# Sort triangles (vectors)"
   ]
  },
  {
   "cell_type": "markdown",
   "id": "28af58ef-e74d-4b57-ac89-8952f343783a",
   "metadata": {
    "tags": []
   },
   "source": [
    "## Define points for sorting outlet facets"
   ]
  },
  {
   "cell_type": "code",
   "execution_count": 11,
   "id": "a7b8e47a-57dc-4ac6-9dc6-132636697bac",
   "metadata": {},
   "outputs": [],
   "source": [
    "# mesh.bounding_box.bounds"
   ]
  },
  {
   "cell_type": "code",
   "execution_count": 12,
   "id": "c5d3e10f-b854-4151-aef2-d1416a68767e",
   "metadata": {},
   "outputs": [],
   "source": [
    "# bb_min = mesh.bounding_box.bounds[0]\n",
    "# bb_max = mesh.bounding_box.bounds[1]\n",
    "\n",
    "# print(f\"{bb_min=}\")\n",
    "# print(f\"{bb_max=}\")\n",
    "\n",
    "# important_points = {\n",
    "#     \"inlet\": [\n",
    "#         bb_min[0], bb_max[1], 0.5 * (bb_min[2] + bb_max[2]),\n",
    "#     ],\n",
    "#     \"outlet\": [\n",
    "#         bb_max[0], bb_min[1], 0.5 * (bb_min[2] + bb_max[2]),\n",
    "#     ],\n",
    "#     \"wall1\": [\n",
    "#         bb_min[0], bb_min[1], 0.5 * (bb_min[2] + bb_max[2]),\n",
    "#     ],\n",
    "#     \"wall2\": [\n",
    "#         bb_max[0], bb_max[1], 0.5 * (bb_min[2] + bb_max[2]),\n",
    "#     ],\n",
    "# }\n",
    "# important_points"
   ]
  },
  {
   "cell_type": "markdown",
   "id": "6aa43862-e027-4c0c-93bd-e210f946a1c3",
   "metadata": {},
   "source": [
    "## Sort facets"
   ]
  },
  {
   "cell_type": "code",
   "execution_count": 13,
   "id": "a2b51f66-0b71-489e-833c-1b5ff2af7a5c",
   "metadata": {},
   "outputs": [
    {
     "data": {
      "text/plain": [
       "{'inlet': [5],\n",
       " 'outlet': [3],\n",
       " 'empty_patch_top': [0],\n",
       " 'empty_patch_bottom': [1],\n",
       " 'walls': [2, 4]}"
      ]
     },
     "execution_count": 13,
     "metadata": {},
     "output_type": "execute_result"
    }
   ],
   "source": [
    "sorted_facets = {\n",
    "    'inlet': [],\n",
    "    'outlet': [],\n",
    "    'empty_patch_top': [],\n",
    "    'empty_patch_bottom': [],\n",
    "    'walls': [],\n",
    "}\n",
    "\n",
    "already_sorted_facets = set()\n",
    "\n",
    "# # Loop over defined points to identify outlet facets\n",
    "# for facet_name, point in important_points.items():\n",
    "#     (_, _, face_id) = mesh.nearest.on_surface([point])\n",
    "#     facet_id = mesh.facets_reverse_index_from_face_id[face_id[0]]\n",
    "#     if facet_name.startswith(\"wall\"):\n",
    "#         facet_name = facet_name[:-1] + \"s\"\n",
    "#     sorted_facets[facet_name].append(facet_id)\n",
    "#     already_sorted_facets.add(facet_id)\n",
    "    \n",
    "# print(f\"{already_sorted_facets=}\")\n",
    "\n",
    "# Sort remaining facets based on surface normals\n",
    "for facet_id, (facet, facet_normal) in enumerate(zip(mesh.facets, mesh.facets_normal)):\n",
    "    # print(facet_id, facet, facet_normal)\n",
    "    \n",
    "    if facet_id in already_sorted_facets:\n",
    "        continue\n",
    "    \n",
    "    if np.allclose(facet_normal, norm_minus_z):\n",
    "        sorted_facets['empty_patch_bottom'].append(facet_id)\n",
    "        \n",
    "    elif np.allclose(facet_normal, norm_plus_z):\n",
    "        sorted_facets['empty_patch_top'].append(facet_id)\n",
    "        \n",
    "    elif np.allclose(facet_normal, norm_minus_x):\n",
    "        sorted_facets['inlet'].append(facet_id)\n",
    "        \n",
    "    elif np.allclose(facet_normal, norm_plus_x):\n",
    "        sorted_facets['outlet'].append(facet_id)\n",
    "\n",
    "    else:\n",
    "        sorted_facets['walls'].append(facet_id)\n",
    "                \n",
    "sorted_facets"
   ]
  },
  {
   "cell_type": "markdown",
   "id": "4a03838d-1c6c-458a-9a8c-11b4e1ee5952",
   "metadata": {},
   "source": [
    "## Break out faces and write to STL files"
   ]
  },
  {
   "cell_type": "code",
   "execution_count": 14,
   "id": "20fe26b5-0e05-4aa3-bae3-d15174349ea5",
   "metadata": {},
   "outputs": [],
   "source": [
    "# create_and_write_STL_boundary_files(mesh, sorted_facets)\n",
    "\n",
    "write_ascii_stl_file_for_side_faces(\n",
    "    mesh, \n",
    "    sorted_facets\n",
    ")"
   ]
  },
  {
   "cell_type": "code",
   "execution_count": null,
   "id": "b11acaf2-1d3d-4327-808e-985854b87cce",
   "metadata": {},
   "outputs": [],
   "source": []
  }
 ],
 "metadata": {
  "kernelspec": {
   "display_name": "anaconda_2022_05",
   "language": "python",
   "name": "anaconda_2022_05"
  },
  "language_info": {
   "codemirror_mode": {
    "name": "ipython",
    "version": 3
   },
   "file_extension": ".py",
   "mimetype": "text/x-python",
   "name": "python",
   "nbconvert_exporter": "python",
   "pygments_lexer": "ipython3",
   "version": "3.8.13"
  }
 },
 "nbformat": 4,
 "nbformat_minor": 5
}
